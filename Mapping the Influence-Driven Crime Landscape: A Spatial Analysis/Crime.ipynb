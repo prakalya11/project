{
 "cells": [
  {
   "cell_type": "code",
   "execution_count": 1,
   "metadata": {},
   "outputs": [
    {
     "name": "stdout",
     "output_type": "stream",
     "text": [
      "Requirement already satisfied: pandas in c:\\users\\praka\\appdata\\local\\packages\\pythonsoftwarefoundation.python.3.11_qbz5n2kfra8p0\\localcache\\local-packages\\python311\\site-packages (2.2.3)\n",
      "Requirement already satisfied: scikit-learn in c:\\users\\praka\\appdata\\local\\packages\\pythonsoftwarefoundation.python.3.11_qbz5n2kfra8p0\\localcache\\local-packages\\python311\\site-packages (1.5.2)\n",
      "Requirement already satisfied: imbalanced-learn in c:\\users\\praka\\appdata\\local\\packages\\pythonsoftwarefoundation.python.3.11_qbz5n2kfra8p0\\localcache\\local-packages\\python311\\site-packages (0.12.4)\n",
      "Requirement already satisfied: joblib in c:\\users\\praka\\appdata\\local\\packages\\pythonsoftwarefoundation.python.3.11_qbz5n2kfra8p0\\localcache\\local-packages\\python311\\site-packages (1.4.2)\n",
      "Requirement already satisfied: numpy>=1.23.2 in c:\\users\\praka\\appdata\\local\\packages\\pythonsoftwarefoundation.python.3.11_qbz5n2kfra8p0\\localcache\\local-packages\\python311\\site-packages (from pandas) (2.1.3)\n",
      "Requirement already satisfied: python-dateutil>=2.8.2 in c:\\users\\praka\\appdata\\local\\packages\\pythonsoftwarefoundation.python.3.11_qbz5n2kfra8p0\\localcache\\local-packages\\python311\\site-packages (from pandas) (2.9.0.post0)\n",
      "Requirement already satisfied: pytz>=2020.1 in c:\\users\\praka\\appdata\\local\\packages\\pythonsoftwarefoundation.python.3.11_qbz5n2kfra8p0\\localcache\\local-packages\\python311\\site-packages (from pandas) (2024.2)\n",
      "Requirement already satisfied: tzdata>=2022.7 in c:\\users\\praka\\appdata\\local\\packages\\pythonsoftwarefoundation.python.3.11_qbz5n2kfra8p0\\localcache\\local-packages\\python311\\site-packages (from pandas) (2024.2)\n",
      "Requirement already satisfied: scipy>=1.6.0 in c:\\users\\praka\\appdata\\local\\packages\\pythonsoftwarefoundation.python.3.11_qbz5n2kfra8p0\\localcache\\local-packages\\python311\\site-packages (from scikit-learn) (1.14.1)\n",
      "Requirement already satisfied: threadpoolctl>=3.1.0 in c:\\users\\praka\\appdata\\local\\packages\\pythonsoftwarefoundation.python.3.11_qbz5n2kfra8p0\\localcache\\local-packages\\python311\\site-packages (from scikit-learn) (3.5.0)\n",
      "Requirement already satisfied: six>=1.5 in c:\\users\\praka\\appdata\\local\\packages\\pythonsoftwarefoundation.python.3.11_qbz5n2kfra8p0\\localcache\\local-packages\\python311\\site-packages (from python-dateutil>=2.8.2->pandas) (1.16.0)\n"
     ]
    },
    {
     "name": "stderr",
     "output_type": "stream",
     "text": [
      "\n",
      "[notice] A new release of pip is available: 24.0 -> 24.3.1\n",
      "[notice] To update, run: C:\\Users\\praka\\AppData\\Local\\Microsoft\\WindowsApps\\PythonSoftwareFoundation.Python.3.11_qbz5n2kfra8p0\\python.exe -m pip install --upgrade pip\n"
     ]
    }
   ],
   "source": [
    "!pip install pandas scikit-learn imbalanced-learn joblib\n"
   ]
  },
  {
   "cell_type": "code",
   "execution_count": 2,
   "metadata": {},
   "outputs": [],
   "source": [
    "import pandas as pd\n",
    "import seaborn as sns\n",
    "import matplotlib as plt\n",
    "import joblib\n"
   ]
  },
  {
   "cell_type": "code",
   "execution_count": 3,
   "metadata": {},
   "outputs": [
    {
     "name": "stdout",
     "output_type": "stream",
     "text": [
      "<class 'pandas.core.frame.DataFrame'>\n",
      "RangeIndex: 332416 entries, 0 to 332415\n",
      "Data columns (total 9 columns):\n",
      " #   Column               Non-Null Count   Dtype \n",
      "---  ------               --------------   ----- \n",
      " 0   year                 332416 non-null  int64 \n",
      " 1   entity_code          332416 non-null  int64 \n",
      " 2   entity               332416 non-null  object\n",
      " 3   affected_legal_good  332416 non-null  object\n",
      " 4   type_of_crime        332416 non-null  object\n",
      " 5   subtype_of_crime     332416 non-null  object\n",
      " 6   modality             332416 non-null  object\n",
      " 7   month                332416 non-null  object\n",
      " 8   count                332416 non-null  int64 \n",
      "dtypes: int64(3), object(6)\n",
      "memory usage: 22.8+ MB\n"
     ]
    }
   ],
   "source": [
    "df=pd.read_csv(\"mexico_crime.csv\")\n",
    "df.info()"
   ]
  },
  {
   "cell_type": "code",
   "execution_count": 4,
   "metadata": {},
   "outputs": [
    {
     "data": {
      "text/plain": [
       "year                   0\n",
       "entity_code            0\n",
       "entity                 0\n",
       "affected_legal_good    0\n",
       "type_of_crime          0\n",
       "subtype_of_crime       0\n",
       "modality               0\n",
       "month                  0\n",
       "count                  0\n",
       "dtype: int64"
      ]
     },
     "execution_count": 4,
     "metadata": {},
     "output_type": "execute_result"
    }
   ],
   "source": [
    "df.isnull().sum()\n"
   ]
  },
  {
   "cell_type": "code",
   "execution_count": 5,
   "metadata": {},
   "outputs": [
    {
     "data": {
      "text/plain": [
       "np.int64(0)"
      ]
     },
     "execution_count": 5,
     "metadata": {},
     "output_type": "execute_result"
    }
   ],
   "source": [
    "df.duplicated().sum()"
   ]
  },
  {
   "cell_type": "code",
   "execution_count": 6,
   "metadata": {},
   "outputs": [
    {
     "name": "stdout",
     "output_type": "stream",
     "text": [
      "<class 'pandas.core.frame.DataFrame'>\n",
      "RangeIndex: 332416 entries, 0 to 332415\n",
      "Data columns (total 6 columns):\n",
      " #   Column            Non-Null Count   Dtype \n",
      "---  ------            --------------   ----- \n",
      " 0   year              332416 non-null  int64 \n",
      " 1   entity            332416 non-null  object\n",
      " 2   type_of_crime     332416 non-null  object\n",
      " 3   subtype_of_crime  332416 non-null  object\n",
      " 4   modality          332416 non-null  object\n",
      " 5   month             332416 non-null  object\n",
      "dtypes: int64(1), object(5)\n",
      "memory usage: 15.2+ MB\n"
     ]
    },
    {
     "data": {
      "text/plain": [
       "['data_frame.joblib']"
      ]
     },
     "execution_count": 6,
     "metadata": {},
     "output_type": "execute_result"
    }
   ],
   "source": [
    "df\n",
    "df1=df.drop([\"entity_code\",\"affected_legal_good\",\"count\"],axis=1)\n",
    "df1.info()\n",
    "joblib.dump(df1, 'data_frame.joblib')"
   ]
  },
  {
   "cell_type": "code",
   "execution_count": 7,
   "metadata": {},
   "outputs": [
    {
     "data": {
      "text/plain": [
       "<Axes: xlabel='year', ylabel='count'>"
      ]
     },
     "execution_count": 7,
     "metadata": {},
     "output_type": "execute_result"
    },
    {
     "data": {
      "image/png": "[encoded data removed]",
      "text/plain": [
       "<Figure size 640x480 with 1 Axes>"
      ]
     },
     "metadata": {},
     "output_type": "display_data"
    }
   ],
   "source": [
    "sns.countplot(x=\"year\",data=df)"
   ]
  },
  {
   "cell_type": "code",
   "execution_count": 8,
   "metadata": {},
   "outputs": [
    {
     "name": "stdout",
     "output_type": "stream",
     "text": [
      "<class 'pandas.core.frame.DataFrame'>\n",
      "RangeIndex: 332416 entries, 0 to 332415\n",
      "Data columns (total 9 columns):\n",
      " #   Column               Non-Null Count   Dtype\n",
      "---  ------               --------------   -----\n",
      " 0   year                 332416 non-null  int64\n",
      " 1   entity_code          332416 non-null  int64\n",
      " 2   entity               332416 non-null  int64\n",
      " 3   affected_legal_good  332416 non-null  int64\n",
      " 4   type_of_crime        332416 non-null  int64\n",
      " 5   subtype_of_crime     332416 non-null  int64\n",
      " 6   modality             332416 non-null  int64\n",
      " 7   month                332416 non-null  int64\n",
      " 8   count                332416 non-null  int64\n",
      "dtypes: int64(9)\n",
      "memory usage: 22.8 MB\n"
     ]
    }
   ],
   "source": [
    "from sklearn.preprocessing import LabelEncoder\n",
    "label_encoder=LabelEncoder()\n",
    "for column in df.select_dtypes(include=['object']).columns:\n",
    "  df[column]=label_encoder.fit_transform(df[column])\n",
    "df.info()\n",
    "df=df.astype(\"float\")\n",
    "\n",
    "\n"
   ]
  },
  {
   "cell_type": "code",
   "execution_count": 9,
   "metadata": {},
   "outputs": [
    {
     "name": "stdout",
     "output_type": "stream",
     "text": [
      "0.43708260634137536\n",
      "[[0 0 0 ... 0 0 0]\n",
      " [0 0 0 ... 0 0 0]\n",
      " [0 0 0 ... 0 0 0]\n",
      " ...\n",
      " [0 0 0 ... 0 0 0]\n",
      " [0 0 0 ... 0 0 0]\n",
      " [0 0 0 ... 0 0 0]]\n",
      "              precision    recall  f1-score   support\n",
      "\n",
      "         0.0       0.00      0.00      0.00       658\n",
      "         1.0       0.00      0.00      0.00       660\n",
      "         2.0       0.00      0.00      0.00       690\n",
      "         3.0       0.00      0.00      0.00       688\n",
      "         4.0       0.00      0.00      0.00       664\n",
      "         5.0       0.00      0.00      0.00       681\n",
      "         6.0       0.00      0.00      0.00       677\n",
      "         7.0       0.17      0.15      0.16       671\n",
      "         8.0       0.04      0.00      0.01       689\n",
      "         9.0       0.41      0.15      0.22       705\n",
      "        10.0       0.15      0.16      0.15       718\n",
      "        11.0       0.00      0.00      0.00       675\n",
      "        12.0       0.35      0.33      0.34       688\n",
      "        13.0       0.00      0.00      0.00       699\n",
      "        14.0       0.00      0.00      0.00       652\n",
      "        15.0       0.00      0.00      0.00      2634\n",
      "        16.0       0.00      0.00      0.00       679\n",
      "        17.0       0.00      0.00      0.00       680\n",
      "        18.0       0.00      0.00      0.00       715\n",
      "        19.0       0.23      0.23      0.23      6073\n",
      "        20.0       0.00      0.00      0.00       686\n",
      "        21.0       0.00      0.00      0.00       668\n",
      "        22.0       0.29      0.41      0.34      6172\n",
      "        23.0       0.21      0.79      0.33      3427\n",
      "        24.0       0.00      0.00      0.00       668\n",
      "        25.0       0.23      0.20      0.21       697\n",
      "        26.0       0.00      0.00      0.00       648\n",
      "        27.0       0.00      0.00      0.00       683\n",
      "        28.0       0.00      0.00      0.00       658\n",
      "        29.0       0.00      0.00      0.00       681\n",
      "        30.0       0.00      0.00      0.00       663\n",
      "        31.0       0.00      0.00      0.00       735\n",
      "        32.0       0.00      0.00      0.00       692\n",
      "        33.0       0.00      0.00      0.00       691\n",
      "        34.0       0.61      0.90      0.73     24255\n",
      "        35.0       0.00      0.00      0.00       683\n",
      "        36.0       0.00      0.00      0.00      1397\n",
      "        37.0       0.00      0.00      0.00       688\n",
      "        38.0       0.00      0.00      0.00       696\n",
      "\n",
      "    accuracy                           0.44     66484\n",
      "   macro avg       0.07      0.08      0.07     66484\n",
      "weighted avg       0.30      0.44      0.35     66484\n",
      "\n"
     ]
    },
    {
     "name": "stderr",
     "output_type": "stream",
     "text": [
      "C:\\Users\\praka\\AppData\\Local\\Packages\\PythonSoftwareFoundation.Python.3.11_qbz5n2kfra8p0\\LocalCache\\local-packages\\Python311\\site-packages\\sklearn\\linear_model\\_logistic.py:469: ConvergenceWarning: lbfgs failed to converge (status=1):\n",
      "STOP: TOTAL NO. of ITERATIONS REACHED LIMIT.\n",
      "\n",
      "Increase the number of iterations (max_iter) or scale the data as shown in:\n",
      "    https://scikit-learn.org/stable/modules/preprocessing.html\n",
      "Please also refer to the documentation for alternative solver options:\n",
      "    https://scikit-learn.org/stable/modules/linear_model.html#logistic-regression\n",
      "  n_iter_i = _check_optimize_result(\n",
      "C:\\Users\\praka\\AppData\\Local\\Packages\\PythonSoftwareFoundation.Python.3.11_qbz5n2kfra8p0\\LocalCache\\local-packages\\Python311\\site-packages\\sklearn\\metrics\\_classification.py:1531: UndefinedMetricWarning: Precision is ill-defined and being set to 0.0 in labels with no predicted samples. Use `zero_division` parameter to control this behavior.\n",
      "  _warn_prf(average, modifier, f\"{metric.capitalize()} is\", len(result))\n",
      "C:\\Users\\praka\\AppData\\Local\\Packages\\PythonSoftwareFoundation.Python.3.11_qbz5n2kfra8p0\\LocalCache\\local-packages\\Python311\\site-packages\\sklearn\\metrics\\_classification.py:1531: UndefinedMetricWarning: Precision is ill-defined and being set to 0.0 in labels with no predicted samples. Use `zero_division` parameter to control this behavior.\n",
      "  _warn_prf(average, modifier, f\"{metric.capitalize()} is\", len(result))\n",
      "C:\\Users\\praka\\AppData\\Local\\Packages\\PythonSoftwareFoundation.Python.3.11_qbz5n2kfra8p0\\LocalCache\\local-packages\\Python311\\site-packages\\sklearn\\metrics\\_classification.py:1531: UndefinedMetricWarning: Precision is ill-defined and being set to 0.0 in labels with no predicted samples. Use `zero_division` parameter to control this behavior.\n",
      "  _warn_prf(average, modifier, f\"{metric.capitalize()} is\", len(result))\n"
     ]
    }
   ],
   "source": [
    "from sklearn.linear_model import LogisticRegression\n",
    "from sklearn.metrics import accuracy_score,classification_report,confusion_matrix\n",
    "from sklearn.preprocessing import StandardScaler\n",
    "from sklearn.model_selection import train_test_split\n",
    "x=df.drop('type_of_crime', axis=1)\n",
    "y=df['type_of_crime']\n",
    "x_train,x_test,y_train,y_test=train_test_split(x,y,test_size=0.2,random_state=42)\n",
    "model=LogisticRegression()\n",
    "model.fit(x_train,y_train)\n",
    "y_pred=model.predict(x_test)\n",
    "accuracy=accuracy_score(y_test,y_pred)\n",
    "conf_matrix=confusion_matrix(y_test,y_pred)\n",
    "classification_reg=classification_report(y_test,y_pred)\n",
    "print(accuracy)\n",
    "print(conf_matrix)\n",
    "print(classification_reg)"
   ]
  },
  {
   "cell_type": "code",
   "execution_count": 10,
   "metadata": {},
   "outputs": [
    {
     "name": "stdout",
     "output_type": "stream",
     "text": [
      "(265932, 8)\n"
     ]
    }
   ],
   "source": [
    "from sklearn.feature_selection import VarianceThreshold\n",
    "import numpy as np\n",
    "s=VarianceThreshold(threshold=0.2)\n",
    "x_train_high_vari=s.fit_transform(x_train)\n",
    "x_test_high_vari=s.transform(x_test)\n",
    "print(x_train_high_vari.shape)"
   ]
  },
  {
   "cell_type": "code",
   "execution_count": 11,
   "metadata": {},
   "outputs": [
    {
     "name": "stdout",
     "output_type": "stream",
     "text": [
      "0.43708260634137536\n"
     ]
    },
    {
     "name": "stderr",
     "output_type": "stream",
     "text": [
      "C:\\Users\\praka\\AppData\\Local\\Packages\\PythonSoftwareFoundation.Python.3.11_qbz5n2kfra8p0\\LocalCache\\local-packages\\Python311\\site-packages\\sklearn\\linear_model\\_logistic.py:469: ConvergenceWarning: lbfgs failed to converge (status=1):\n",
      "STOP: TOTAL NO. of ITERATIONS REACHED LIMIT.\n",
      "\n",
      "Increase the number of iterations (max_iter) or scale the data as shown in:\n",
      "    https://scikit-learn.org/stable/modules/preprocessing.html\n",
      "Please also refer to the documentation for alternative solver options:\n",
      "    https://scikit-learn.org/stable/modules/linear_model.html#logistic-regression\n",
      "  n_iter_i = _check_optimize_result(\n"
     ]
    }
   ],
   "source": [
    "logreg=LogisticRegression()\n",
    "logreg.fit(x_train_high_vari,y_train)\n",
    "pred=logreg.predict(x_test_high_vari)\n",
    "acc=accuracy_score(y_test,pred)\n",
    "print(acc)"
   ]
  },
  {
   "cell_type": "code",
   "execution_count": 12,
   "metadata": {},
   "outputs": [
    {
     "name": "stdout",
     "output_type": "stream",
     "text": [
      "Accuracy: 1.0\n",
      "Classification Report:               precision    recall  f1-score   support\n",
      "\n",
      "         0.0       1.00      1.00      1.00       658\n",
      "         1.0       1.00      1.00      1.00       660\n",
      "         2.0       1.00      1.00      1.00       690\n",
      "         3.0       1.00      1.00      1.00       688\n",
      "         4.0       1.00      1.00      1.00       664\n",
      "         5.0       1.00      1.00      1.00       681\n",
      "         6.0       1.00      1.00      1.00       677\n",
      "         7.0       1.00      1.00      1.00       671\n",
      "         8.0       1.00      1.00      1.00       689\n",
      "         9.0       1.00      1.00      1.00       705\n",
      "        10.0       1.00      1.00      1.00       718\n",
      "        11.0       1.00      1.00      1.00       675\n",
      "        12.0       1.00      1.00      1.00       688\n",
      "        13.0       1.00      1.00      1.00       699\n",
      "        14.0       1.00      1.00      1.00       652\n",
      "        15.0       1.00      1.00      1.00      2634\n",
      "        16.0       1.00      1.00      1.00       679\n",
      "        17.0       1.00      1.00      1.00       680\n",
      "        18.0       1.00      1.00      1.00       715\n",
      "        19.0       1.00      1.00      1.00      6073\n",
      "        20.0       1.00      1.00      1.00       686\n",
      "        21.0       1.00      1.00      1.00       668\n",
      "        22.0       1.00      1.00      1.00      6172\n",
      "        23.0       1.00      1.00      1.00      3427\n",
      "        24.0       1.00      1.00      1.00       668\n",
      "        25.0       1.00      1.00      1.00       697\n",
      "        26.0       1.00      1.00      1.00       648\n",
      "        27.0       1.00      1.00      1.00       683\n",
      "        28.0       1.00      1.00      1.00       658\n",
      "        29.0       1.00      1.00      1.00       681\n",
      "        30.0       1.00      1.00      1.00       663\n",
      "        31.0       1.00      1.00      1.00       735\n",
      "        32.0       1.00      1.00      1.00       692\n",
      "        33.0       1.00      1.00      1.00       691\n",
      "        34.0       1.00      1.00      1.00     24255\n",
      "        35.0       1.00      1.00      1.00       683\n",
      "        36.0       1.00      1.00      1.00      1397\n",
      "        37.0       1.00      1.00      1.00       688\n",
      "        38.0       1.00      1.00      1.00       696\n",
      "\n",
      "    accuracy                           1.00     66484\n",
      "   macro avg       1.00      1.00      1.00     66484\n",
      "weighted avg       1.00      1.00      1.00     66484\n",
      "\n"
     ]
    },
    {
     "data": {
      "text/plain": [
       "['pgm.joblib']"
      ]
     },
     "execution_count": 12,
     "metadata": {},
     "output_type": "execute_result"
    }
   ],
   "source": [
    "import joblib\n",
    "from sklearn.ensemble import RandomForestClassifier\n",
    "x1 = df.drop([\"entity_code\",\"affected_legal_good\",\"count\"],axis=1)\n",
    "y1=df[\"type_of_crime\"]\n",
    "x_train1, x_test1, y_train1, y_test1 = train_test_split(x1, y1, test_size=0.2, random_state=42)\n",
    "\n",
    "# Train the Random Forest model\n",
    "ap = RandomForestClassifier()\n",
    "ap.fit(x_train1, y_train1)\n",
    "\n",
    "# Evaluate the model\n",
    "y_pred = ap.predict(x_test1)\n",
    "print(\"Accuracy:\", accuracy_score(y_test1, y_pred))\n",
    "print(\"Classification Report:\", classification_report(y_test1, y_pred))\n",
    "joblib.dump(ap, 'pgm.joblib')\n"
   ]
  }
 ],
 "metadata": {
  "kernelspec": {
   "display_name": "Python 3",
   "language": "python",
   "name": "python3"
  },
  "language_info": {
   "codemirror_mode": {
    "name": "ipython",
    "version": 3
   },
   "file_extension": ".py",
   "mimetype": "text/x-python",
   "name": "python",
   "nbconvert_exporter": "python",
   "pygments_lexer": "ipython3",
   "version": "3.11.9"
  }
 },
 "nbformat": 4,
 "nbformat_minor": 2
}
