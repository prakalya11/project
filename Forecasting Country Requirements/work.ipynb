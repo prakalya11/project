{
 "cells": [
  {
   "cell_type": "code",
   "execution_count": 2,
   "metadata": {},
   "outputs": [],
   "source": [
    "import streamlit as st\n",
    "import numpy as np\n",
    "import pandas as pd\n",
    "import joblib\n",
    "import time\n",
    "import matplotlib.pyplot as plt\n",
    "import seaborn as sns\n",
    "from sklearn.linear_model import LinearRegression\n",
    "from sklearn.model_selection import train_test_split\n",
    "from sklearn.metrics import mean_squared_error, r2_score\n"
   ]
  },
  {
   "cell_type": "code",
   "execution_count": 3,
   "metadata": {},
   "outputs": [
    {
     "name": "stdout",
     "output_type": "stream",
     "text": [
      "<class 'pandas.core.frame.DataFrame'>\n",
      "RangeIndex: 541909 entries, 0 to 541908\n",
      "Data columns (total 8 columns):\n",
      " #   Column       Non-Null Count   Dtype         \n",
      "---  ------       --------------   -----         \n",
      " 0   InvoiceNo    541909 non-null  object        \n",
      " 1   Description  540455 non-null  object        \n",
      " 2   Quantity     541909 non-null  int64         \n",
      " 3   InvoiceDate  541909 non-null  datetime64[ns]\n",
      " 4   UnitPrice    541909 non-null  float64       \n",
      " 5   CustomerID   406829 non-null  float64       \n",
      " 6   Country      541909 non-null  object        \n",
      " 7   TotalPrice   541909 non-null  float64       \n",
      "dtypes: datetime64[ns](1), float64(3), int64(1), object(3)\n",
      "memory usage: 33.1+ MB\n"
     ]
    }
   ],
   "source": [
    "df=pd.read_excel(\"Online Retail.xlsx\")\n",
    "df.info()"
   ]
  },
  {
   "cell_type": "code",
   "execution_count": 4,
   "metadata": {},
   "outputs": [
    {
     "data": {
      "text/plain": [
       "InvoiceNo           0\n",
       "Description      1454\n",
       "Quantity            0\n",
       "InvoiceDate         0\n",
       "UnitPrice           0\n",
       "CustomerID     135080\n",
       "Country             0\n",
       "TotalPrice          0\n",
       "dtype: int64"
      ]
     },
     "execution_count": 4,
     "metadata": {},
     "output_type": "execute_result"
    }
   ],
   "source": [
    "df.isnull().sum()"
   ]
  },
  {
   "cell_type": "code",
   "execution_count": 5,
   "metadata": {},
   "outputs": [
    {
     "name": "stderr",
     "output_type": "stream",
     "text": [
      "C:\\Users\\praka\\AppData\\Local\\Temp\\ipykernel_744\\491531115.py:1: FutureWarning: A value is trying to be set on a copy of a DataFrame or Series through chained assignment using an inplace method.\n",
      "The behavior will change in pandas 3.0. This inplace method will never work because the intermediate object on which we are setting values always behaves as a copy.\n",
      "\n",
      "For example, when doing 'df[col].method(value, inplace=True)', try using 'df.method({col: value}, inplace=True)' or df[col] = df[col].method(value) instead, to perform the operation inplace on the original object.\n",
      "\n",
      "\n",
      "  df[\"Description\"].fillna(value=\"others\",axis=0,inplace=True)\n",
      "C:\\Users\\praka\\AppData\\Local\\Temp\\ipykernel_744\\491531115.py:3: FutureWarning: A value is trying to be set on a copy of a DataFrame or Series through chained assignment using an inplace method.\n",
      "The behavior will change in pandas 3.0. This inplace method will never work because the intermediate object on which we are setting values always behaves as a copy.\n",
      "\n",
      "For example, when doing 'df[col].method(value, inplace=True)', try using 'df.method({col: value}, inplace=True)' or df[col] = df[col].method(value) instead, to perform the operation inplace on the original object.\n",
      "\n",
      "\n",
      "  df[\"CustomerID\"].fillna(df[\"CustomerID\"].median(),inplace=True)\n"
     ]
    },
    {
     "data": {
      "text/plain": [
       "InvoiceNo      0\n",
       "Description    0\n",
       "Quantity       0\n",
       "InvoiceDate    0\n",
       "UnitPrice      0\n",
       "CustomerID     0\n",
       "Country        0\n",
       "TotalPrice     0\n",
       "dtype: int64"
      ]
     },
     "execution_count": 5,
     "metadata": {},
     "output_type": "execute_result"
    }
   ],
   "source": [
    "df[\"Description\"].fillna(value=\"others\",axis=0,inplace=True)\n",
    "\n",
    "df[\"CustomerID\"].fillna(df[\"CustomerID\"].median(),inplace=True)\n",
    "df.isnull().sum()\n"
   ]
  },
  {
   "cell_type": "code",
   "execution_count": 6,
   "metadata": {},
   "outputs": [
    {
     "data": {
      "text/plain": [
       "np.int64(5338)"
      ]
     },
     "execution_count": 6,
     "metadata": {},
     "output_type": "execute_result"
    }
   ],
   "source": [
    "df.duplicated().sum()"
   ]
  },
  {
   "cell_type": "code",
   "execution_count": 7,
   "metadata": {},
   "outputs": [
    {
     "data": {
      "text/plain": [
       "np.int64(0)"
      ]
     },
     "execution_count": 7,
     "metadata": {},
     "output_type": "execute_result"
    }
   ],
   "source": [
    "df.drop_duplicates(inplace=True)\n",
    "df.duplicated().sum()"
   ]
  },
  {
   "cell_type": "code",
   "execution_count": 8,
   "metadata": {},
   "outputs": [
    {
     "name": "stderr",
     "output_type": "stream",
     "text": [
      "C:\\Users\\praka\\AppData\\Local\\Temp\\ipykernel_744\\2082449757.py:3: UserWarning: FigureCanvasAgg is non-interactive, and thus cannot be shown\n",
      "  plt.show()\n"
     ]
    }
   ],
   "source": [
    "sns.boxplot(df[\"TotalPrice\"])\n",
    "\n",
    "plt.show()"
   ]
  },
  {
   "cell_type": "code",
   "execution_count": 9,
   "metadata": {},
   "outputs": [
    {
     "name": "stderr",
     "output_type": "stream",
     "text": [
      "C:\\Users\\praka\\AppData\\Local\\Temp\\ipykernel_744\\1891528274.py:3: UserWarning: FigureCanvasAgg is non-interactive, and thus cannot be shown\n",
      "  plt.show()\n"
     ]
    }
   ],
   "source": [
    "df1=df[['Quantity', 'UnitPrice', 'CustomerID','TotalPrice']]\n",
    "sns.heatmap(df1.corr(),annot=True,fmt=\".1f\")\n",
    "plt.show()"
   ]
  },
  {
   "cell_type": "code",
   "execution_count": 10,
   "metadata": {},
   "outputs": [
    {
     "name": "stdout",
     "output_type": "stream",
     "text": [
      "<class 'pandas.core.frame.DataFrame'>\n",
      "Index: 490945 entries, 0 to 541908\n",
      "Data columns (total 8 columns):\n",
      " #   Column       Non-Null Count   Dtype         \n",
      "---  ------       --------------   -----         \n",
      " 0   InvoiceNo    490945 non-null  object        \n",
      " 1   Description  490945 non-null  object        \n",
      " 2   Quantity     490945 non-null  int64         \n",
      " 3   InvoiceDate  490945 non-null  datetime64[ns]\n",
      " 4   UnitPrice    490945 non-null  float64       \n",
      " 5   CustomerID   490945 non-null  float64       \n",
      " 6   Country      490945 non-null  object        \n",
      " 7   TotalPrice   490945 non-null  float64       \n",
      "dtypes: datetime64[ns](1), float64(3), int64(1), object(3)\n",
      "memory usage: 33.7+ MB\n"
     ]
    }
   ],
   "source": [
    "q3=df[\"TotalPrice\"].quantile(.75)\n",
    "q1=df[\"TotalPrice\"].quantile(.25)\n",
    "iqr=q3-q1\n",
    "ul=q3+1.5*iqr\n",
    "ll=q1-1.5*iqr\n",
    "df1=df[(df[\"TotalPrice\"]>=ll)&(df[\"TotalPrice\"]<=ul)]\n",
    "df1.info()"
   ]
  },
  {
   "cell_type": "code",
   "execution_count": 11,
   "metadata": {},
   "outputs": [
    {
     "name": "stderr",
     "output_type": "stream",
     "text": [
      "C:\\Users\\praka\\AppData\\Local\\Temp\\ipykernel_744\\3528849566.py:6: SettingWithCopyWarning: \n",
      "A value is trying to be set on a copy of a slice from a DataFrame.\n",
      "Try using .loc[row_indexer,col_indexer] = value instead\n",
      "\n",
      "See the caveats in the documentation: https://pandas.pydata.org/pandas-docs/stable/user_guide/indexing.html#returning-a-view-versus-a-copy\n",
      "  df1[col] = df1[col].astype(str)\n",
      "C:\\Users\\praka\\AppData\\Local\\Temp\\ipykernel_744\\3528849566.py:8: SettingWithCopyWarning: \n",
      "A value is trying to be set on a copy of a slice from a DataFrame.\n",
      "Try using .loc[row_indexer,col_indexer] = value instead\n",
      "\n",
      "See the caveats in the documentation: https://pandas.pydata.org/pandas-docs/stable/user_guide/indexing.html#returning-a-view-versus-a-copy\n",
      "  df1[col] = label.fit_transform(df1[col])\n",
      "C:\\Users\\praka\\AppData\\Local\\Temp\\ipykernel_744\\3528849566.py:6: SettingWithCopyWarning: \n",
      "A value is trying to be set on a copy of a slice from a DataFrame.\n",
      "Try using .loc[row_indexer,col_indexer] = value instead\n",
      "\n",
      "See the caveats in the documentation: https://pandas.pydata.org/pandas-docs/stable/user_guide/indexing.html#returning-a-view-versus-a-copy\n",
      "  df1[col] = df1[col].astype(str)\n",
      "C:\\Users\\praka\\AppData\\Local\\Temp\\ipykernel_744\\3528849566.py:8: SettingWithCopyWarning: \n",
      "A value is trying to be set on a copy of a slice from a DataFrame.\n",
      "Try using .loc[row_indexer,col_indexer] = value instead\n",
      "\n",
      "See the caveats in the documentation: https://pandas.pydata.org/pandas-docs/stable/user_guide/indexing.html#returning-a-view-versus-a-copy\n",
      "  df1[col] = label.fit_transform(df1[col])\n",
      "C:\\Users\\praka\\AppData\\Local\\Temp\\ipykernel_744\\3528849566.py:6: SettingWithCopyWarning: \n",
      "A value is trying to be set on a copy of a slice from a DataFrame.\n",
      "Try using .loc[row_indexer,col_indexer] = value instead\n",
      "\n",
      "See the caveats in the documentation: https://pandas.pydata.org/pandas-docs/stable/user_guide/indexing.html#returning-a-view-versus-a-copy\n",
      "  df1[col] = df1[col].astype(str)\n",
      "C:\\Users\\praka\\AppData\\Local\\Temp\\ipykernel_744\\3528849566.py:8: SettingWithCopyWarning: \n",
      "A value is trying to be set on a copy of a slice from a DataFrame.\n",
      "Try using .loc[row_indexer,col_indexer] = value instead\n",
      "\n",
      "See the caveats in the documentation: https://pandas.pydata.org/pandas-docs/stable/user_guide/indexing.html#returning-a-view-versus-a-copy\n",
      "  df1[col] = label.fit_transform(df1[col])\n"
     ]
    }
   ],
   "source": [
    "from sklearn.preprocessing import LabelEncoder\n",
    "\n",
    "label = LabelEncoder()\n",
    "for col in df1.select_dtypes(include=[\"object\"]).columns:\n",
    "    # Convert all entries to strings\n",
    "    df1[col] = df1[col].astype(str)\n",
    "    # Apply LabelEncoder\n",
    "    df1[col] = label.fit_transform(df1[col])\n"
   ]
  },
  {
   "cell_type": "code",
   "execution_count": 12,
   "metadata": {},
   "outputs": [
    {
     "name": "stdout",
     "output_type": "stream",
     "text": [
      "<class 'pandas.core.frame.DataFrame'>\n",
      "Index: 490945 entries, 0 to 541908\n",
      "Data columns (total 8 columns):\n",
      " #   Column       Non-Null Count   Dtype         \n",
      "---  ------       --------------   -----         \n",
      " 0   InvoiceNo    490945 non-null  int64         \n",
      " 1   Description  490945 non-null  int64         \n",
      " 2   Quantity     490945 non-null  int64         \n",
      " 3   InvoiceDate  490945 non-null  datetime64[ns]\n",
      " 4   UnitPrice    490945 non-null  float64       \n",
      " 5   CustomerID   490945 non-null  float64       \n",
      " 6   Country      490945 non-null  int64         \n",
      " 7   TotalPrice   490945 non-null  float64       \n",
      "dtypes: datetime64[ns](1), float64(3), int64(4)\n",
      "memory usage: 33.7 MB\n"
     ]
    }
   ],
   "source": [
    "df1.info()"
   ]
  },
  {
   "cell_type": "code",
   "execution_count": 13,
   "metadata": {},
   "outputs": [
    {
     "name": "stderr",
     "output_type": "stream",
     "text": [
      "C:\\Users\\praka\\AppData\\Local\\Temp\\ipykernel_744\\1226929383.py:6: SettingWithCopyWarning: \n",
      "A value is trying to be set on a copy of a slice from a DataFrame.\n",
      "Try using .loc[row_indexer,col_indexer] = value instead\n",
      "\n",
      "See the caveats in the documentation: https://pandas.pydata.org/pandas-docs/stable/user_guide/indexing.html#returning-a-view-versus-a-copy\n",
      "  df1['month'] = df1.InvoiceDate.dt.month\n",
      "C:\\Users\\praka\\AppData\\Local\\Temp\\ipykernel_744\\1226929383.py:2: SettingWithCopyWarning: \n",
      "A value is trying to be set on a copy of a slice from a DataFrame.\n",
      "Try using .loc[row_indexer,col_indexer] = value instead\n",
      "\n",
      "See the caveats in the documentation: https://pandas.pydata.org/pandas-docs/stable/user_guide/indexing.html#returning-a-view-versus-a-copy\n",
      "  df1[col + '_sin'] = np.sin(2 * np.pi * df1[col]/max_val)\n",
      "C:\\Users\\praka\\AppData\\Local\\Temp\\ipykernel_744\\1226929383.py:3: SettingWithCopyWarning: \n",
      "A value is trying to be set on a copy of a slice from a DataFrame.\n",
      "Try using .loc[row_indexer,col_indexer] = value instead\n",
      "\n",
      "See the caveats in the documentation: https://pandas.pydata.org/pandas-docs/stable/user_guide/indexing.html#returning-a-view-versus-a-copy\n",
      "  df1[col + '_cos'] = np.cos(2 * np.pi * df1[col]/max_val)\n",
      "C:\\Users\\praka\\AppData\\Local\\Temp\\ipykernel_744\\1226929383.py:9: SettingWithCopyWarning: \n",
      "A value is trying to be set on a copy of a slice from a DataFrame.\n",
      "Try using .loc[row_indexer,col_indexer] = value instead\n",
      "\n",
      "See the caveats in the documentation: https://pandas.pydata.org/pandas-docs/stable/user_guide/indexing.html#returning-a-view-versus-a-copy\n",
      "  df1['day'] = df1.InvoiceDate.dt.day\n",
      "C:\\Users\\praka\\AppData\\Local\\Temp\\ipykernel_744\\1226929383.py:2: SettingWithCopyWarning: \n",
      "A value is trying to be set on a copy of a slice from a DataFrame.\n",
      "Try using .loc[row_indexer,col_indexer] = value instead\n",
      "\n",
      "See the caveats in the documentation: https://pandas.pydata.org/pandas-docs/stable/user_guide/indexing.html#returning-a-view-versus-a-copy\n",
      "  df1[col + '_sin'] = np.sin(2 * np.pi * df1[col]/max_val)\n",
      "C:\\Users\\praka\\AppData\\Local\\Temp\\ipykernel_744\\1226929383.py:3: SettingWithCopyWarning: \n",
      "A value is trying to be set on a copy of a slice from a DataFrame.\n",
      "Try using .loc[row_indexer,col_indexer] = value instead\n",
      "\n",
      "See the caveats in the documentation: https://pandas.pydata.org/pandas-docs/stable/user_guide/indexing.html#returning-a-view-versus-a-copy\n",
      "  df1[col + '_cos'] = np.cos(2 * np.pi * df1[col]/max_val)\n"
     ]
    }
   ],
   "source": [
    "def encode(df1, col, max_val):\n",
    "    df1[col + '_sin'] = np.sin(2 * np.pi * df1[col]/max_val)\n",
    "    df1[col + '_cos'] = np.cos(2 * np.pi * df1[col]/max_val)\n",
    "    return df1\n",
    "\n",
    "df1['month'] = df1.InvoiceDate.dt.month\n",
    "df1 = encode(df1, 'month', 12)\n",
    "\n",
    "df1['day'] = df1.InvoiceDate.dt.day\n",
    "df2 = encode(df1, 'day', 31)\n",
    "df3=df1.drop(\"InvoiceDate\",axis=1)"
   ]
  },
  {
   "cell_type": "code",
   "execution_count": 14,
   "metadata": {},
   "outputs": [
    {
     "name": "stdout",
     "output_type": "stream",
     "text": [
      "<class 'pandas.core.frame.DataFrame'>\n",
      "Index: 490945 entries, 0 to 541908\n",
      "Data columns (total 13 columns):\n",
      " #   Column       Non-Null Count   Dtype  \n",
      "---  ------       --------------   -----  \n",
      " 0   InvoiceNo    490945 non-null  int64  \n",
      " 1   Description  490945 non-null  int64  \n",
      " 2   Quantity     490945 non-null  int64  \n",
      " 3   UnitPrice    490945 non-null  float64\n",
      " 4   CustomerID   490945 non-null  float64\n",
      " 5   Country      490945 non-null  int64  \n",
      " 6   TotalPrice   490945 non-null  float64\n",
      " 7   month        490945 non-null  int32  \n",
      " 8   month_sin    490945 non-null  float64\n",
      " 9   month_cos    490945 non-null  float64\n",
      " 10  day          490945 non-null  int32  \n",
      " 11  day_sin      490945 non-null  float64\n",
      " 12  day_cos      490945 non-null  float64\n",
      "dtypes: float64(7), int32(2), int64(4)\n",
      "memory usage: 48.7 MB\n",
      "<class 'pandas.core.frame.DataFrame'>\n",
      "Index: 490945 entries, 0 to 541908\n",
      "Data columns (total 27 columns):\n",
      " #   Column       Non-Null Count   Dtype         \n",
      "---  ------       --------------   -----         \n",
      " 0   InvoiceNo    490945 non-null  int64         \n",
      " 1   Description  490945 non-null  int64         \n",
      " 2   Quantity     490945 non-null  int64         \n",
      " 3   InvoiceDate  490945 non-null  datetime64[ns]\n",
      " 4   UnitPrice    490945 non-null  float64       \n",
      " 5   CustomerID   490945 non-null  float64       \n",
      " 6   Country      490945 non-null  int64         \n",
      " 7   TotalPrice   490945 non-null  float64       \n",
      " 8   month        490945 non-null  int32         \n",
      " 9   month_sin    490945 non-null  float64       \n",
      " 10  month_cos    490945 non-null  float64       \n",
      " 11  day          490945 non-null  int32         \n",
      " 12  day_sin      490945 non-null  float64       \n",
      " 13  day_cos      490945 non-null  float64       \n",
      " 14  InvoiceNo    490945 non-null  int64         \n",
      " 15  Description  490945 non-null  int64         \n",
      " 16  Quantity     490945 non-null  int64         \n",
      " 17  UnitPrice    490945 non-null  float64       \n",
      " 18  CustomerID   490945 non-null  float64       \n",
      " 19  Country      490945 non-null  int64         \n",
      " 20  TotalPrice   490945 non-null  float64       \n",
      " 21  month        490945 non-null  int32         \n",
      " 22  month_sin    490945 non-null  float64       \n",
      " 23  month_cos    490945 non-null  float64       \n",
      " 24  day          490945 non-null  int32         \n",
      " 25  day_sin      490945 non-null  float64       \n",
      " 26  day_cos      490945 non-null  float64       \n",
      "dtypes: datetime64[ns](1), float64(14), int32(4), int64(8)\n",
      "memory usage: 97.4 MB\n"
     ]
    }
   ],
   "source": [
    "df6 = pd.concat([df2, df3], axis=1).reindex(df1.index)\n",
    "df3.info()\n",
    "\n",
    "df6.info()"
   ]
  },
  {
   "cell_type": "code",
   "execution_count": 15,
   "metadata": {},
   "outputs": [],
   "source": [
    "x=df3.drop(\"TotalPrice\",axis=1)\n",
    "y=df3[\"TotalPrice\"]\n",
    "x_train,x_test,y_train,y_test=train_test_split(x,y,test_size=0.2,random_state=2)"
   ]
  },
  {
   "cell_type": "code",
   "execution_count": 16,
   "metadata": {},
   "outputs": [
    {
     "data": {
      "text/plain": [
       "0.14048453321959675"
      ]
     },
     "execution_count": 16,
     "metadata": {},
     "output_type": "execute_result"
    }
   ],
   "source": [
    "for col in df3.select_dtypes(exclude=[\"datetime\"]).columns:\n",
    "    # Convert all entries to strings\n",
    "    df3[col] = df3[col].astype(str)\n",
    "    # Apply LabelEncoder\n",
    "    df3[col] = label.fit_transform(df3[col])\n",
    "\n",
    "model=LinearRegression()\n",
    "model.fit(x_train,y_train)\n",
    "y_pre=model.predict(x_test)\n",
    "y_pre\n",
    "s=model.score(x_train,y_train)\n",
    "s"
   ]
  },
  {
   "cell_type": "code",
   "execution_count": 17,
   "metadata": {},
   "outputs": [
    {
     "data": {
      "text/plain": [
       "np.float64(61.96076555459809)"
      ]
     },
     "execution_count": 17,
     "metadata": {},
     "output_type": "execute_result"
    }
   ],
   "source": [
    "mse=mean_squared_error(y_test,y_pre)\n",
    "mse"
   ]
  },
  {
   "cell_type": "code",
   "execution_count": 18,
   "metadata": {},
   "outputs": [
    {
     "data": {
      "text/plain": [
       "0.13597622736297788"
      ]
     },
     "execution_count": 18,
     "metadata": {},
     "output_type": "execute_result"
    }
   ],
   "source": [
    "r2=r2_score(y_test,y_pre)\n",
    "r2"
   ]
  },
  {
   "cell_type": "code",
   "execution_count": 19,
   "metadata": {},
   "outputs": [
    {
     "data": {
      "text/plain": [
       "<Axes: ylabel='Country'>"
      ]
     },
     "execution_count": 19,
     "metadata": {},
     "output_type": "execute_result"
    }
   ],
   "source": [
    "plt.figure(figsize=(12,15))\n",
    "\n",
    "sns.barplot(df[\"Country\"])\n"
   ]
  },
  {
   "cell_type": "code",
   "execution_count": 20,
   "metadata": {},
   "outputs": [
    {
     "name": "stderr",
     "output_type": "stream",
     "text": [
      "C:\\Users\\praka\\AppData\\Local\\Packages\\PythonSoftwareFoundation.Python.3.11_qbz5n2kfra8p0\\LocalCache\\local-packages\\Python311\\site-packages\\sklearn\\ensemble\\_forest.py:615: UserWarning: Some inputs do not have OOB scores. This probably means too few trees were used to compute any reliable OOB estimates.\n",
      "  warn(\n"
     ]
    },
    {
     "name": "stdout",
     "output_type": "stream",
     "text": [
      "Mean Squared Error: 0.0007730833169499633\n",
      "R-squared: 0.9999892625780801\n"
     ]
    }
   ],
   "source": [
    "from sklearn.ensemble import RandomForestRegressor\n",
    "model = RandomForestRegressor(n_estimators=10, random_state=0, oob_score=True)\n",
    "\n",
    "# Fit the regressor with x and y data\n",
    "model.fit(x, y)\n",
    "predictions = model.predict(x)\n",
    "\n",
    "# Evaluating the model\n",
    "mse = mean_squared_error(y, predictions)\n",
    "print(f'Mean Squared Error: {mse}')\n",
    "\n",
    "r2 = r2_score(y, predictions)\n",
    "print(f'R-squared: {r2}')\n"
   ]
  },
  {
   "cell_type": "code",
   "execution_count": 21,
   "metadata": {},
   "outputs": [
    {
     "name": "stdout",
     "output_type": "stream",
     "text": [
      "Requirement already satisfied: pandas in c:\\users\\praka\\appdata\\local\\packages\\pythonsoftwarefoundation.python.3.11_qbz5n2kfra8p0\\localcache\\local-packages\\python311\\site-packages (2.2.3)\n",
      "Requirement already satisfied: scikit-learn in c:\\users\\praka\\appdata\\local\\packages\\pythonsoftwarefoundation.python.3.11_qbz5n2kfra8p0\\localcache\\local-packages\\python311\\site-packages (1.5.2)\n",
      "Requirement already satisfied: imbalanced-learn in c:\\users\\praka\\appdata\\local\\packages\\pythonsoftwarefoundation.python.3.11_qbz5n2kfra8p0\\localcache\\local-packages\\python311\\site-packages (0.12.4)\n",
      "Requirement already satisfied: joblib in c:\\users\\praka\\appdata\\local\\packages\\pythonsoftwarefoundation.python.3.11_qbz5n2kfra8p0\\localcache\\local-packages\\python311\\site-packages (1.4.2)\n",
      "Requirement already satisfied: numpy>=1.23.2 in c:\\users\\praka\\appdata\\local\\packages\\pythonsoftwarefoundation.python.3.11_qbz5n2kfra8p0\\localcache\\local-packages\\python311\\site-packages (from pandas) (2.1.3)\n",
      "Requirement already satisfied: python-dateutil>=2.8.2 in c:\\users\\praka\\appdata\\local\\packages\\pythonsoftwarefoundation.python.3.11_qbz5n2kfra8p0\\localcache\\local-packages\\python311\\site-packages (from pandas) (2.9.0.post0)\n",
      "Requirement already satisfied: pytz>=2020.1 in c:\\users\\praka\\appdata\\local\\packages\\pythonsoftwarefoundation.python.3.11_qbz5n2kfra8p0\\localcache\\local-packages\\python311\\site-packages (from pandas) (2024.2)\n",
      "Requirement already satisfied: tzdata>=2022.7 in c:\\users\\praka\\appdata\\local\\packages\\pythonsoftwarefoundation.python.3.11_qbz5n2kfra8p0\\localcache\\local-packages\\python311\\site-packages (from pandas) (2024.2)\n",
      "Requirement already satisfied: scipy>=1.6.0 in c:\\users\\praka\\appdata\\local\\packages\\pythonsoftwarefoundation.python.3.11_qbz5n2kfra8p0\\localcache\\local-packages\\python311\\site-packages (from scikit-learn) (1.14.1)\n",
      "Requirement already satisfied: threadpoolctl>=3.1.0 in c:\\users\\praka\\appdata\\local\\packages\\pythonsoftwarefoundation.python.3.11_qbz5n2kfra8p0\\localcache\\local-packages\\python311\\site-packages (from scikit-learn) (3.5.0)\n",
      "Requirement already satisfied: six>=1.5 in c:\\users\\praka\\appdata\\local\\packages\\pythonsoftwarefoundation.python.3.11_qbz5n2kfra8p0\\localcache\\local-packages\\python311\\site-packages (from python-dateutil>=2.8.2->pandas) (1.16.0)\n"
     ]
    },
    {
     "name": "stderr",
     "output_type": "stream",
     "text": [
      "\n",
      "[notice] A new release of pip is available: 24.0 -> 24.3.1\n",
      "[notice] To update, run: C:\\Users\\praka\\AppData\\Local\\Microsoft\\WindowsApps\\PythonSoftwareFoundation.Python.3.11_qbz5n2kfra8p0\\python.exe -m pip install --upgrade pip\n"
     ]
    }
   ],
   "source": [
    "\n",
    "!pip install pandas scikit-learn imbalanced-learn joblib\n"
   ]
  },
  {
   "cell_type": "code",
   "execution_count": null,
   "metadata": {},
   "outputs": [],
   "source": []
  },
  {
   "cell_type": "code",
   "execution_count": null,
   "metadata": {},
   "outputs": [],
   "source": [
    "import pandas as pd\n",
    "from sklearn.ensemble import RandomForestClassifier\n",
    "from sklearn.model_selection import train_test_split\n",
    "from sklearn.metrics import accuracy_score, classification_report\n",
    "from sklearn.preprocessing import LabelEncoder\n",
    "import joblib\n",
    "\n",
    "\n",
    "# Initialize a LabelEncoder\n",
    "label = LabelEncoder()\n",
    "\n",
    "df3=df3.astype('int')\n",
    "\n",
    "# Select features and target\n",
    "x1 = df3[['Description', 'Quantity']]\n",
    "y1 = df3['Country']\n"
   ]
  },
  {
   "cell_type": "code",
   "execution_count": 24,
   "metadata": {},
   "outputs": [
    {
     "name": "stdout",
     "output_type": "stream",
     "text": [
      "Accuracy: 0.9237898338917802\n",
      "Classification Report:               precision    recall  f1-score   support\n",
      "\n",
      "           0       0.00      0.00      0.00       114\n",
      "           1       0.00      0.00      0.00        84\n",
      "           2       0.09      0.00      0.01      1272\n",
      "           3       0.00      0.00      0.00         6\n",
      "           4       0.00      0.00      0.00       112\n",
      "           5       0.19      0.01      0.02      1477\n",
      "           6       0.26      0.04      0.08      1612\n",
      "           7       0.00      0.00      0.00        25\n",
      "           8       0.00      0.00      0.00        35\n",
      "           9       0.00      0.00      0.00        35\n",
      "          10       0.00      0.00      0.00        49\n",
      "          11       0.60      0.02      0.03       168\n",
      "          13       0.00      0.00      0.00        29\n",
      "          14       0.00      0.00      0.00         5\n",
      "          15       0.00      0.00      0.00         2\n",
      "          16       0.50      0.05      0.10        19\n",
      "          17       0.23      0.05      0.09       110\n",
      "          18       0.25      0.02      0.04       156\n",
      "          19       0.00      0.00      0.00        59\n",
      "          20       0.12      0.00      0.01       265\n",
      "          21       0.00      0.00      0.00        11\n",
      "          22       0.00      0.00      0.00         1\n",
      "          23       0.10      0.00      0.01       358\n",
      "          24       0.00      0.00      0.00        14\n",
      "          25       0.08      0.00      0.01       447\n",
      "          26       0.00      0.00      0.00        44\n",
      "          27       0.00      0.00      0.00       341\n",
      "          28       0.00      0.00      0.00        46\n",
      "          29       0.00      0.00      0.00        10\n",
      "          30       0.93      1.00      0.96     90897\n",
      "          31       0.00      0.00      0.00        77\n",
      "          32       0.00      0.00      0.00         2\n",
      "          33       0.00      0.00      0.00        28\n",
      "          34       0.00      0.00      0.00       116\n",
      "          35       0.00      0.00      0.00       107\n",
      "          36       0.00      0.00      0.00         2\n",
      "          37       0.00      0.00      0.00        54\n",
      "\n",
      "    accuracy                           0.92     98189\n",
      "   macro avg       0.09      0.03      0.04     98189\n",
      "weighted avg       0.87      0.92      0.89     98189\n",
      "\n"
     ]
    },
    {
     "name": "stderr",
     "output_type": "stream",
     "text": [
      "C:\\Users\\praka\\AppData\\Local\\Packages\\PythonSoftwareFoundation.Python.3.11_qbz5n2kfra8p0\\LocalCache\\local-packages\\Python311\\site-packages\\sklearn\\metrics\\_classification.py:1531: UndefinedMetricWarning: Precision is ill-defined and being set to 0.0 in labels with no predicted samples. Use `zero_division` parameter to control this behavior.\n",
      "  _warn_prf(average, modifier, f\"{metric.capitalize()} is\", len(result))\n",
      "C:\\Users\\praka\\AppData\\Local\\Packages\\PythonSoftwareFoundation.Python.3.11_qbz5n2kfra8p0\\LocalCache\\local-packages\\Python311\\site-packages\\sklearn\\metrics\\_classification.py:1531: UndefinedMetricWarning: Precision is ill-defined and being set to 0.0 in labels with no predicted samples. Use `zero_division` parameter to control this behavior.\n",
      "  _warn_prf(average, modifier, f\"{metric.capitalize()} is\", len(result))\n",
      "C:\\Users\\praka\\AppData\\Local\\Packages\\PythonSoftwareFoundation.Python.3.11_qbz5n2kfra8p0\\LocalCache\\local-packages\\Python311\\site-packages\\sklearn\\metrics\\_classification.py:1531: UndefinedMetricWarning: Precision is ill-defined and being set to 0.0 in labels with no predicted samples. Use `zero_division` parameter to control this behavior.\n",
      "  _warn_prf(average, modifier, f\"{metric.capitalize()} is\", len(result))\n"
     ]
    },
    {
     "data": {
      "text/plain": [
       "['work.joblib']"
      ]
     },
     "execution_count": 24,
     "metadata": {},
     "output_type": "execute_result"
    }
   ],
   "source": [
    "\n",
    "x_train1, x_test1, y_train1, y_test1 = train_test_split(x1, y1, test_size=0.2, random_state=42)\n",
    "\n",
    "# Train the Random Forest model\n",
    "ap = RandomForestClassifier()\n",
    "ap.fit(x_train1, y_train1)\n",
    "\n",
    "# Evaluate the model\n",
    "y_pred = ap.predict(x_test1)\n",
    "print(\"Accuracy:\", accuracy_score(y_test1, y_pred))\n",
    "print(\"Classification Report:\", classification_report(y_test1, y_pred))\n",
    "\n",
    "# Save the trained model\n",
    "joblib.dump(ap, 'work.joblib')\n",
    "\n"
   ]
  }
 ],
 "metadata": {
  "kernelspec": {
   "display_name": "Python 3",
   "language": "python",
   "name": "python3"
  },
  "language_info": {
   "codemirror_mode": {
    "name": "ipython",
    "version": 3
   },
   "file_extension": ".py",
   "mimetype": "text/x-python",
   "name": "python",
   "nbconvert_exporter": "python",
   "pygments_lexer": "ipython3",
   "version": "3.11.9"
  }
 },
 "nbformat": 4,
 "nbformat_minor": 2
}
